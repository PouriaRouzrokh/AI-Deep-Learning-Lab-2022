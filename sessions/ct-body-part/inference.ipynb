{
  "nbformat": 4,
  "nbformat_minor": 0,
  "metadata": {
    "accelerator": "TPU",
    "colab": {
      "name": "inference.ipynb",
      "provenance": [],
      "collapsed_sections": []
    },
    "kernelspec": {
      "display_name": "Python 3",
      "language": "python",
      "name": "python3"
    },
    "language_info": {
      "codemirror_mode": {
        "name": "ipython",
        "version": 3
      },
      "file_extension": ".py",
      "mimetype": "text/x-python",
      "name": "python",
      "nbconvert_exporter": "python",
      "pygments_lexer": "ipython3",
      "version": "3.7.5"
    }
  },
  "cells": [
    {
      "cell_type": "markdown",
      "metadata": {
        "id": "tKYuZWZ0gP9z"
      },
      "source": [
        "# Deep Learning for Automatic Labeling of CT Images\n",
        "## By: Ian Pan, MD.ai modified by Anouk Stein, MD.ai and Ross Filice MD, MedStar Georgetown University Hospital to predict chest, abdomen, or pelvic slices. Note lower chest/upper abdomen may have labels for both chest and abdomen."
      ]
    },
    {
      "cell_type": "code",
      "metadata": {
        "id": "h7RP28IXPGvG"
      },
      "source": [
        "!git clone https://github.com/rwfilice/bodypart.git"
      ],
      "execution_count": null,
      "outputs": []
    },
    {
      "cell_type": "code",
      "metadata": {
        "id": "tZPTc-wGP82S"
      },
      "source": [
        "!pip install pydicom"
      ],
      "execution_count": null,
      "outputs": []
    },
    {
      "cell_type": "code",
      "metadata": {
        "id": "KHp444ni3J7i"
      },
      "source": [
        "from scipy.ndimage.interpolation import zoom\n",
        "\n",
        "import matplotlib.pyplot as plt\n",
        "import pydicom\n",
        "import pandas as pd \n",
        "import numpy as np \n",
        "import glob\n",
        "import os \n",
        "import re \n",
        "import json\n",
        "from pathlib import Path\n",
        "\n",
        "from keras.applications.imagenet_utils import preprocess_input\n",
        "from keras.applications.mobilenet_v2 import MobileNetV2\n",
        "from keras.callbacks import EarlyStopping, ReduceLROnPlateau\n",
        "from keras import Model\n",
        "from keras.layers import Dropout, Dense, GlobalAveragePooling2D\n",
        "from keras import optimizers\n",
        "from keras.models import model_from_json\n",
        "\n",
        "import tensorflow as tf \n",
        "\n",
        "# Set seed for reproducibility\n",
        "tf.random.set_seed(88) ; np.random.seed(88) \n",
        "\n",
        "# For data augmentation\n",
        "from albumentations import (\n",
        "    Compose, OneOf, HorizontalFlip, Blur, RandomGamma, RandomContrast, RandomBrightness\n",
        ")"
      ],
      "execution_count": null,
      "outputs": []
    },
    {
      "cell_type": "code",
      "metadata": {
        "id": "xSK1Br4Gn9Ma"
      },
      "source": [
        "testPath = Path('bodypart/testnpy')\n",
        "testList = list(sorted(testPath.glob('**/*.npy'), key=lambda fn: int(re.search('-([0-9]*)', str(fn)).group(1))))"
      ],
      "execution_count": null,
      "outputs": []
    },
    {
      "cell_type": "code",
      "metadata": {
        "id": "3VUw6wgTOtrz"
      },
      "source": [
        "testList"
      ],
      "execution_count": null,
      "outputs": []
    },
    {
      "cell_type": "code",
      "metadata": {
        "id": "yYc2ALDRUn3j"
      },
      "source": [
        "def get_dicom_and_uid(path_to_npy):\n",
        "    '''\n",
        "    Given a filepath, return the npy file and corresponding SOPInstanceUID. \n",
        "    '''\n",
        "    path_to_npy = str(path_to_npy)\n",
        "    dicom_file = np.load(path_to_npy)\n",
        "    uid = path_to_npy.split('/')[-1].replace('.npy', '')\n",
        "    return dicom_file, uid"
      ],
      "execution_count": null,
      "outputs": []
    },
    {
      "cell_type": "code",
      "metadata": {
        "id": "6HKsxs_3Otr1"
      },
      "source": [
        "def convert_dicom_to_8bit(npy_file, width, level, imsize=(224.,224.), clip=True): \n",
        "    '''\n",
        "    Given a DICOM file, window specifications, and image size, \n",
        "    return the image as a Numpy array scaled to [0,255] of the specified size. \n",
        "    '''\n",
        "    array = npy_file.copy() \n",
        "    #array = array + int(dicom_file.RescaleIntercept) #we did this on preprocess\n",
        "    #array = array * int(dicom_file.RescaleSlope) #we did this on preprocess\n",
        "    array = np.clip(array, level - width / 2, level + width / 2)\n",
        "    # Rescale to [0, 255]\n",
        "    array -= np.min(array) \n",
        "    array /= np.max(array) \n",
        "    array *= 255.\n",
        "    array = array.astype('uint8')\n",
        "    \n",
        "    if clip:\n",
        "    # Sometimes there is dead space around the images -- let's get rid of that\n",
        "        nonzeros = np.nonzero(array) \n",
        "        x1 = np.min(nonzeros[0]) ; x2 = np.max(nonzeros[0])\n",
        "        y1 = np.min(nonzeros[1]) ; y2 = np.max(nonzeros[1])\n",
        "        array = array[x1:x2,y1:y2]\n",
        "\n",
        "    # Resize image if necessary\n",
        "    resize_x = float(imsize[0]) / array.shape[0] \n",
        "    resize_y = float(imsize[1]) / array.shape[1] \n",
        "    if resize_x != 1. or resize_y != 1.:\n",
        "        array = zoom(array, [resize_x, resize_y], order=1, prefilter=False)\n",
        "    return np.expand_dims(array, axis=-1)"
      ],
      "execution_count": null,
      "outputs": []
    },
    {
      "cell_type": "code",
      "metadata": {
        "id": "am3DCy-9Otr4"
      },
      "source": [
        "json_file = open('bodypart/model.json', 'r')\n",
        "loaded_model_json = json_file.read()\n",
        "json_file.close()\n",
        "model = model_from_json(loaded_model_json)"
      ],
      "execution_count": null,
      "outputs": []
    },
    {
      "cell_type": "markdown",
      "metadata": {
        "id": "AxN2UuhSH0to"
      },
      "source": [
        "## Predict on test set\n",
        "\n",
        "\n"
      ]
    },
    {
      "cell_type": "markdown",
      "metadata": {
        "id": "A3j8okxMHule"
      },
      "source": [
        "Now let's evaluate predictions on the test data. Note that the CNN predicts labels for each image but labels exist at an exam-level. Thus we need to combine predictions for each image in an exam to produce an exam-level label. We will do so by simply averaging the prediction scores across all images in an exam."
      ]
    },
    {
      "cell_type": "code",
      "metadata": {
        "id": "8fMOhlKtOtr5"
      },
      "source": [
        "model.load_weights('bodypart/tcga-mguh-multilabel.h5')  #federated"
      ],
      "execution_count": null,
      "outputs": []
    },
    {
      "cell_type": "code",
      "metadata": {
        "id": "auoBQzUKOXxh"
      },
      "source": [
        "#Inference\n",
        "IMSIZE = 256\n",
        "WINDOW_LEVEL, WINDOW_WIDTH = 50, 500\n",
        "def predict(model, images, imsize):\n",
        "    '''\n",
        "    Small modifications to data generator to allow for prediction on test data.\n",
        "    '''\n",
        "    test_arrays = [] \n",
        " \n",
        "    test_probas = [] \n",
        "    test_uids   = []\n",
        "    for im in images: \n",
        "        dicom_file, uid = get_dicom_and_uid(im) \n",
        "        try:\n",
        "            array = convert_dicom_to_8bit(dicom_file, WINDOW_WIDTH, WINDOW_LEVEL, \n",
        "                                    imsize=(imsize,imsize))\n",
        "        except: \n",
        "            continue\n",
        "      \n",
        "        array = preprocess_input(array, mode='tf')\n",
        "        test_arrays.append(array) \n",
        "\n",
        "        test_probas.append(model.predict(np.expand_dims(array, axis=0)))\n",
        "        test_uids.append(uid)\n",
        "    return test_uids, test_arrays, test_probas\n",
        "                                    \n",
        "uids, X, y_prob = predict(model, testList, IMSIZE)\n",
        "\n",
        "test_pred_df = pd.DataFrame({'uid': uids, 'X': X, 'y_prob': y_prob})"
      ],
      "execution_count": null,
      "outputs": []
    },
    {
      "cell_type": "code",
      "metadata": {
        "id": "5e7ihGMVOtr7"
      },
      "source": [
        "test_pred_df.apply(lambda row: row['y_prob'], axis=1)"
      ],
      "execution_count": null,
      "outputs": []
    },
    {
      "cell_type": "code",
      "metadata": {
        "id": "M5BsiokCOtr8"
      },
      "source": [
        "chest = np.stack(test_pred_df['y_prob'])[:,0][:,0]\n",
        "abd = np.stack(test_pred_df['y_prob'])[:,0][:,1]\n",
        "pelv = np.stack(test_pred_df['y_prob'])[:,0][:,2]"
      ],
      "execution_count": null,
      "outputs": []
    },
    {
      "cell_type": "code",
      "metadata": {
        "scrolled": true,
        "id": "5ZH4V3BXOtr8"
      },
      "source": [
        "plt.plot(chest)\n",
        "plt.plot(abd)\n",
        "plt.plot(pelv)"
      ],
      "execution_count": null,
      "outputs": []
    },
    {
      "cell_type": "code",
      "metadata": {
        "id": "xkn3ZTpHOtr_"
      },
      "source": [
        "numaveslices = 5\n",
        "avepreds = []\n",
        "allpreds = np.stack(test_pred_df['y_prob'])[:,0]\n",
        "for idx,arr in enumerate(allpreds):\n",
        "    low = int(max(0,idx-(numaveslices-1)/2))\n",
        "    high = int(min(len(allpreds),idx+(numaveslices+1)/2))\n",
        "    avepreds.append(np.mean(allpreds[low:high],axis=0))\n",
        "    \n",
        "chest = np.stack(avepreds)[:,0]\n",
        "abd = np.stack(avepreds)[:,1]\n",
        "pelv = np.stack(avepreds)[:,2]"
      ],
      "execution_count": null,
      "outputs": []
    },
    {
      "cell_type": "code",
      "metadata": {
        "scrolled": true,
        "id": "9lrJuRAQOtsA"
      },
      "source": [
        "#averaged over 5 slices\n",
        "plt.plot(chest)\n",
        "plt.plot(abd)\n",
        "plt.plot(pelv)"
      ],
      "execution_count": null,
      "outputs": []
    },
    {
      "cell_type": "code",
      "metadata": {
        "id": "F9NdpyYzOtsA"
      },
      "source": [
        "def displayImages(imgs,labels):\n",
        "    numimgs = len(imgs)\n",
        "    plt.figure(figsize=(20,10))\n",
        "    for idx,img in enumerate(imgs):\n",
        "        dicom_file, uid = get_dicom_and_uid(img)\n",
        "        img = convert_dicom_to_8bit(dicom_file, WINDOW_WIDTH, WINDOW_LEVEL, clip=False)\n",
        "        plt.subplot(\"1%i%i\" % (numimgs,idx+1))\n",
        "        plt.imshow(img[...,0],cmap='gray')\n",
        "        plt.title(labels[idx])\n",
        "        plt.axis('off')"
      ],
      "execution_count": null,
      "outputs": []
    },
    {
      "cell_type": "code",
      "metadata": {
        "id": "UXEYTPSoOtsB"
      },
      "source": [
        "#averaged over 5 slices\n",
        "fig, ax1 = plt.subplots(figsize=(17,10))\n",
        "ax1.set_xlabel(\"Slice Number\", fontsize=20)\n",
        "ax1.set_ylabel(\"Confidence\", fontsize=20)\n",
        "plt.xticks([0,30,60,90,120,150,180,210],fontsize=12)\n",
        "plt.yticks(fontsize=12)\n",
        "ax1.axvline(30,color='gray',ymax=0.1)\n",
        "ax1.axvline(82,color='gray',ymax=0.1)\n",
        "ax1.axvline(120,color='gray',ymax=0.1)\n",
        "ax1.axvline(172,color='gray',ymax=0.1)\n",
        "ax1.axvline(195,color='gray',ymax=0.1)\n",
        "plt.plot(chest,linewidth=2,label=\"Chest\")\n",
        "plt.plot(abd,linewidth=2,label=\"Abdomen\")\n",
        "plt.plot(pelv,linewidth=2,label=\"Pelvis\")\n",
        "plt.legend(fontsize=16)"
      ],
      "execution_count": null,
      "outputs": []
    },
    {
      "cell_type": "code",
      "metadata": {
        "id": "sfJIHO1tOtsC"
      },
      "source": [
        "displayImages([testList[30],testList[82],testList[120],testList[172],testList[195]],[30,82,120,172,195])"
      ],
      "execution_count": null,
      "outputs": []
    },
    {
      "cell_type": "code",
      "metadata": {
        "id": "cUzCh9OsOtsC"
      },
      "source": [
        ""
      ],
      "execution_count": null,
      "outputs": []
    }
  ]
}